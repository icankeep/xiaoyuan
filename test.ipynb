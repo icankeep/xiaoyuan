{
 "cells": [
  {
   "cell_type": "code",
   "execution_count": 2,
   "metadata": {},
   "outputs": [],
   "source": [
    "import cv2\n",
    "import numpy as np\n",
    "import pyautogui\n",
    "import pytesseract\n",
    "import keyboard\n",
    "import sys\n",
    "import time\n",
    "import uuid"
   ]
  },
  {
   "cell_type": "code",
   "execution_count": 3,
   "metadata": {},
   "outputs": [],
   "source": [
    "pytesseract.pytesseract.tesseract_cmd = r'C:\\Program Files\\Tesseract-OCR\\tesseract.exe' # 设置 Tesseract-OCR 的路径\n",
    "\n",
    "def recognize_numbers(image):\n",
    "    gray = cv2.cvtColor(image, cv2.COLOR_BGR2GRAY)\n",
    "    _, thresh = cv2.threshold(gray, 150, 255, cv2.THRESH_BINARY)\n",
    "    text = pytesseract.image_to_string(thresh, config='--psm 6')\n",
    "    number = [int(s) for s in text.split() if s.isdigit()]\n",
    "    print(number)\n",
    "    return number"
   ]
  },
  {
   "cell_type": "code",
   "execution_count": 17,
   "metadata": {},
   "outputs": [
    {
     "name": "stderr",
     "output_type": "stream",
     "text": [
      "\u001b[32mUsing official model (PP-OCRv4_mobile_det), the model files will be be automatically downloaded and saved in C:\\Users\\whzhou\\.paddlex\\official_models.\u001b[0m\n",
      "\u001b[32mUsing official model (PP-OCRv4_mobile_rec), the model files will be be automatically downloaded and saved in C:\\Users\\whzhou\\.paddlex\\official_models.\u001b[0m\n",
      "\u001b[32m{'input_path': 'img/Snipaste_2024-10-13_13-59-02.png', 'dt_polys': [array([[194,  42],\n",
      "       [236,  42],\n",
      "       [236,  76],\n",
      "       [194,  76]], dtype=int16)], 'dt_scores': [0.8680950432423206], 'rec_text': ['20'], 'rec_score': [0.9997695684432983]}\u001b[0m\n"
     ]
    },
    {
     "name": "stdout",
     "output_type": "stream",
     "text": [
      "['20']\n"
     ]
    }
   ],
   "source": [
    "from paddlex import create_pipeline\n",
    "image_path = \"img/Snipaste_2024-10-13_13-59-02.png\"\n",
    "\n",
    "pipeline = create_pipeline(pipeline='ocr', device='cpu')\n",
    "output = pipeline.predict([image_path])\n",
    "for res in output:\n",
    "    res.print()\n",
    "    ret = res.json['rec_text']\n",
    "    print(ret)"
   ]
  },
  {
   "cell_type": "code",
   "execution_count": null,
   "metadata": {},
   "outputs": [],
   "source": []
  }
 ],
 "metadata": {
  "kernelspec": {
   "display_name": "Python 3",
   "language": "python",
   "name": "python3"
  },
  "language_info": {
   "codemirror_mode": {
    "name": "ipython",
    "version": 3
   },
   "file_extension": ".py",
   "mimetype": "text/x-python",
   "name": "python",
   "nbconvert_exporter": "python",
   "pygments_lexer": "ipython3",
   "version": "3.10.15"
  }
 },
 "nbformat": 4,
 "nbformat_minor": 2
}
